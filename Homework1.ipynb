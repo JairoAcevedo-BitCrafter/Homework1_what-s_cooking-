{
  "nbformat": 4,
  "nbformat_minor": 0,
  "metadata": {
    "colab": {
      "provenance": []
    },
    "kernelspec": {
      "name": "python3",
      "display_name": "Python 3"
    },
    "language_info": {
      "name": "python"
    }
  },
  "cells": [
    {
      "cell_type": "markdown",
      "source": [
        "#Data preparation"
      ],
      "metadata": {
        "id": "TWWPvVffOA92"
      }
    },
    {
      "cell_type": "code",
      "execution_count": 1,
      "metadata": {
        "colab": {
          "base_uri": "https://localhost:8080/"
        },
        "id": "2JeJH-ToEbCB",
        "outputId": "3b032191-ebea-4bb3-f384-c391fe42ed04"
      },
      "outputs": [
        {
          "output_type": "stream",
          "name": "stdout",
          "text": [
            "      id      cuisine                                        ingredients\n",
            "0  10259        greek  [romaine lettuce, black olives, grape tomatoes...\n",
            "1  25693  southern_us  [plain flour, ground pepper, salt, tomatoes, g...\n",
            "2  20130     filipino  [eggs, pepper, salt, mayonaise, cooking oil, g...\n",
            "3  22213       indian                [water, vegetable oil, wheat, salt]\n",
            "4  13162       indian  [black pepper, shallots, cornflour, cayenne pe...\n",
            "      id                                        ingredients\n",
            "0  18009  [baking powder, eggs, all-purpose flour, raisi...\n",
            "1  28583  [sugar, egg yolks, corn starch, cream of tarta...\n",
            "2  41580  [sausage links, fennel bulb, fronds, olive oil...\n",
            "3  29752  [meat cuts, file powder, smoked sausage, okra,...\n",
            "4  35687  [ground black pepper, salt, sausage casings, l...\n"
          ]
        }
      ],
      "source": [
        "import pandas as pd\n",
        "import numpy as np\n",
        "#Obtaining the datasets\n",
        "train = pd.read_json('train.json')\n",
        "final_test=pd.read_json('test.json')\n",
        "# Some quick visualizations\n",
        "print(train.head())\n",
        "print(final_test.head())"
      ]
    },
    {
      "cell_type": "code",
      "source": [
        "# Training data preparation\n",
        "from sklearn.model_selection import train_test_split\n",
        "#converting the column into a string for facilitation\n",
        "train['ingredients']=train['ingredients'].astype(str)\n",
        "# Splitting the data\n",
        "X_train, X_test, y_train, y_test = train_test_split(train['ingredients'], train['cuisine'], test_size=0.2, random_state=42)\n",
        "#quick visualization\n",
        "print(X_train)\n",
        "print(X_test)"
      ],
      "metadata": {
        "colab": {
          "base_uri": "https://localhost:8080/"
        },
        "id": "qC9k9RjQO9vv",
        "outputId": "72fecc74-3041-4156-bf85-e7785a8c13eb"
      },
      "execution_count": 2,
      "outputs": [
        {
          "output_type": "stream",
          "name": "stdout",
          "text": [
            "23436    ['shredded cheddar cheese', 'chicken meat', 'c...\n",
            "7901     ['fresh cilantro', 'purple onion', 'ground cor...\n",
            "25718    ['sugar', 'garlic', 'onions', 'vinegar', 'gree...\n",
            "16909    ['raw pistachios', 'purple onion', 'couscous',...\n",
            "34830    ['tomatoes', 'pepper', 'salsa', 'sliced green ...\n",
            "                               ...                        \n",
            "6265     ['tomato purée', 'butter', 'salt', 'taco seaso...\n",
            "11284    ['marsala wine', 'butter', 'olive oil', 'fresh...\n",
            "38158    ['blue crabs', 'peeled fresh ginger', 'soy sau...\n",
            "860      ['pepper', 'spicy brown mustard', 'boneless ch...\n",
            "15795    ['olive oil', 'thyme leaves', 'dried lavender'...\n",
            "Name: ingredients, Length: 31819, dtype: object\n",
            "21513    ['pork', 'cooking oil', 'bamboo shoots', 'chin...\n",
            "1796     ['hog casings', 'hungarian paprika', 'ancho po...\n",
            "21861    ['lamb stock', 'lemon', 'lamb shoulder', 'onio...\n",
            "26571    ['green peas', 'cinnamon sticks', 'clove', 'ch...\n",
            "28720    ['vegetable oil spray', 'cumin seed', 'grated ...\n",
            "                               ...                        \n",
            "9473     ['eggs', 'diced green chilies', 'chopped cilan...\n",
            "1530     ['fontina cheese', 'purple onion', 'green bell...\n",
            "317      ['chicken stock', 'water', 'cornflour', 'fille...\n",
            "38284    ['tumeric', 'bell pepper', 'diced tomatoes', '...\n",
            "2929     ['large eggs', 'carrots', 'ground cinnamon', '...\n",
            "Name: ingredients, Length: 7955, dtype: object\n"
          ]
        }
      ]
    },
    {
      "cell_type": "code",
      "source": [
        "#Vectorization\n",
        "from sklearn.feature_extraction.text import TfidfVectorizer\n",
        "#Vectorizer\n",
        "vectorizer = TfidfVectorizer(min_df=0., max_df=1., norm='l2',\n",
        " use_idf=True, smooth_idf=True)\n",
        "#Training data vectorization\n",
        "X_train_vec = vectorizer.fit_transform(X_train)\n",
        "X_test_vec = vectorizer.transform(X_test)\n",
        "#Problem vectorization\n",
        "final_test_vec=vectorizer.transform(final_test['ingredients'].astype(str))"
      ],
      "metadata": {
        "id": "DFh9Yn7wOuo_"
      },
      "execution_count": 3,
      "outputs": []
    },
    {
      "cell_type": "markdown",
      "source": [
        "#Training"
      ],
      "metadata": {
        "id": "aS4BGzomOHLg"
      }
    },
    {
      "cell_type": "code",
      "source": [
        "#Some models\n",
        "from sklearn.linear_model import SGDClassifier as SGD\n",
        "from sklearn.svm import LinearSVC as SVM\n",
        "from sklearn.svm import SVC\n",
        "from sklearn.linear_model import LogisticRegression as LR\n",
        "from sklearn.metrics import classification_report as CR\n",
        "from sklearn.naive_bayes import BernoulliNB as NB\n",
        "from sklearn.ensemble import RandomForestClassifier as RFC\n",
        "from sklearn.linear_model import Perceptron as PT\n",
        "#initial models configuration\n",
        "svm=SVM(penalty='l2',max_iter=500,C=1,random_state=42)\n",
        "svc=SVC(max_iter=500,C=1,random_state=42)\n",
        "sgd=SGD(loss='hinge',penalty='l2',max_iter=500,random_state=42)\n",
        "lr=LR(max_iter=500)\n",
        "nb=NB(alpha=.1)\n",
        "rfc=RFC(n_estimators=10,random_state=42)\n",
        "pt=PT(tol=1e-3, random_state=42)\n",
        "#array of models\n",
        "models=[svm,sgd,lr, nb, rfc, pt]\n",
        "#array of results\n",
        "pred=[]"
      ],
      "metadata": {
        "id": "JZQ6R_MbSm5O"
      },
      "execution_count": 4,
      "outputs": []
    },
    {
      "cell_type": "code",
      "source": [
        "#Training with each model\n",
        "def fit(x_train,y_train,x_test,y_test):\n",
        "  for model in models:\n",
        "    model.fit(x_train,y_train)\n",
        "    print(model)\n",
        "    prediction=(model.predict(x_test))\n",
        "    print(CR(y_test,prediction))\n",
        "    pred.append(prediction)\n",
        "#function execution\n",
        "fit(X_train_vec,y_train,X_test_vec,y_test)"
      ],
      "metadata": {
        "colab": {
          "base_uri": "https://localhost:8080/"
        },
        "id": "bhYsUbtrA2kG",
        "outputId": "ecfbe1fc-34d2-4216-b63e-64697b4a3d3b"
      },
      "execution_count": 5,
      "outputs": [
        {
          "output_type": "stream",
          "name": "stdout",
          "text": [
            "LinearSVC(C=1, max_iter=500, random_state=42)\n",
            "              precision    recall  f1-score   support\n",
            "\n",
            "   brazilian       0.77      0.61      0.68        84\n",
            "     british       0.66      0.44      0.53       157\n",
            "cajun_creole       0.77      0.67      0.72       328\n",
            "     chinese       0.78      0.85      0.81       510\n",
            "    filipino       0.71      0.59      0.64       136\n",
            "      french       0.63      0.66      0.64       550\n",
            "       greek       0.73      0.71      0.72       249\n",
            "      indian       0.88      0.89      0.88       602\n",
            "       irish       0.60      0.46      0.52       151\n",
            "     italian       0.82      0.89      0.85      1567\n",
            "    jamaican       0.82      0.69      0.75        91\n",
            "    japanese       0.82      0.73      0.77       284\n",
            "      korean       0.83      0.77      0.80       166\n",
            "     mexican       0.90      0.93      0.92      1336\n",
            "    moroccan       0.87      0.76      0.81       166\n",
            "     russian       0.55      0.51      0.53        89\n",
            " southern_us       0.71      0.77      0.74       848\n",
            "     spanish       0.64      0.48      0.55       182\n",
            "        thai       0.81      0.77      0.79       315\n",
            "  vietnamese       0.64      0.54      0.59       144\n",
            "\n",
            "    accuracy                           0.79      7955\n",
            "   macro avg       0.75      0.69      0.71      7955\n",
            "weighted avg       0.79      0.79      0.79      7955\n",
            "\n",
            "SGDClassifier(max_iter=500, random_state=42)\n",
            "              precision    recall  f1-score   support\n",
            "\n",
            "   brazilian       0.69      0.49      0.57        84\n",
            "     british       0.68      0.34      0.46       157\n",
            "cajun_creole       0.79      0.68      0.73       328\n",
            "     chinese       0.75      0.89      0.81       510\n",
            "    filipino       0.83      0.49      0.62       136\n",
            "      french       0.66      0.61      0.63       550\n",
            "       greek       0.74      0.65      0.69       249\n",
            "      indian       0.85      0.91      0.88       602\n",
            "       irish       0.69      0.34      0.45       151\n",
            "     italian       0.78      0.91      0.84      1567\n",
            "    jamaican       0.80      0.66      0.72        91\n",
            "    japanese       0.83      0.71      0.77       284\n",
            "      korean       0.81      0.73      0.77       166\n",
            "     mexican       0.89      0.94      0.92      1336\n",
            "    moroccan       0.84      0.75      0.80       166\n",
            "     russian       0.60      0.48      0.53        89\n",
            " southern_us       0.67      0.79      0.73       848\n",
            "     spanish       0.74      0.38      0.51       182\n",
            "        thai       0.78      0.76      0.77       315\n",
            "  vietnamese       0.68      0.45      0.54       144\n",
            "\n",
            "    accuracy                           0.78      7955\n",
            "   macro avg       0.76      0.65      0.69      7955\n",
            "weighted avg       0.78      0.78      0.77      7955\n",
            "\n",
            "LogisticRegression(max_iter=500)\n",
            "              precision    recall  f1-score   support\n",
            "\n",
            "   brazilian       0.79      0.52      0.63        84\n",
            "     british       0.69      0.36      0.47       157\n",
            "cajun_creole       0.78      0.65      0.71       328\n",
            "     chinese       0.76      0.86      0.81       510\n",
            "    filipino       0.72      0.54      0.62       136\n",
            "      french       0.60      0.65      0.63       550\n",
            "       greek       0.79      0.67      0.72       249\n",
            "      indian       0.87      0.89      0.88       602\n",
            "       irish       0.62      0.42      0.50       151\n",
            "     italian       0.79      0.90      0.85      1567\n",
            "    jamaican       0.90      0.60      0.72        91\n",
            "    japanese       0.83      0.71      0.77       284\n",
            "      korean       0.83      0.75      0.79       166\n",
            "     mexican       0.90      0.93      0.91      1336\n",
            "    moroccan       0.86      0.73      0.79       166\n",
            "     russian       0.60      0.39      0.48        89\n",
            " southern_us       0.67      0.79      0.72       848\n",
            "     spanish       0.66      0.46      0.54       182\n",
            "        thai       0.81      0.74      0.77       315\n",
            "  vietnamese       0.69      0.49      0.57       144\n",
            "\n",
            "    accuracy                           0.78      7955\n",
            "   macro avg       0.76      0.65      0.69      7955\n",
            "weighted avg       0.78      0.78      0.77      7955\n",
            "\n",
            "BernoulliNB(alpha=0.1)\n",
            "              precision    recall  f1-score   support\n",
            "\n",
            "   brazilian       0.39      0.55      0.45        84\n",
            "     british       0.27      0.55      0.36       157\n",
            "cajun_creole       0.61      0.72      0.66       328\n",
            "     chinese       0.80      0.80      0.80       510\n",
            "    filipino       0.50      0.52      0.51       136\n",
            "      french       0.57      0.48      0.52       550\n",
            "       greek       0.64      0.71      0.67       249\n",
            "      indian       0.88      0.81      0.84       602\n",
            "       irish       0.51      0.52      0.51       151\n",
            "     italian       0.86      0.76      0.81      1567\n",
            "    jamaican       0.69      0.60      0.64        91\n",
            "    japanese       0.71      0.67      0.69       284\n",
            "      korean       0.73      0.75      0.74       166\n",
            "     mexican       0.92      0.86      0.89      1336\n",
            "    moroccan       0.79      0.77      0.78       166\n",
            "     russian       0.32      0.52      0.39        89\n",
            " southern_us       0.63      0.66      0.64       848\n",
            "     spanish       0.38      0.56      0.45       182\n",
            "        thai       0.78      0.69      0.73       315\n",
            "  vietnamese       0.58      0.53      0.56       144\n",
            "\n",
            "    accuracy                           0.71      7955\n",
            "   macro avg       0.63      0.65      0.63      7955\n",
            "weighted avg       0.74      0.71      0.72      7955\n",
            "\n",
            "RandomForestClassifier(n_estimators=10, random_state=42)\n",
            "              precision    recall  f1-score   support\n",
            "\n",
            "   brazilian       0.58      0.50      0.54        84\n",
            "     british       0.43      0.31      0.36       157\n",
            "cajun_creole       0.66      0.60      0.63       328\n",
            "     chinese       0.63      0.84      0.72       510\n",
            "    filipino       0.48      0.29      0.36       136\n",
            "      french       0.49      0.51      0.50       550\n",
            "       greek       0.69      0.48      0.56       249\n",
            "      indian       0.79      0.86      0.83       602\n",
            "       irish       0.65      0.32      0.43       151\n",
            "     italian       0.69      0.88      0.78      1567\n",
            "    jamaican       0.75      0.40      0.52        91\n",
            "    japanese       0.77      0.59      0.67       284\n",
            "      korean       0.79      0.49      0.60       166\n",
            "     mexican       0.82      0.89      0.86      1336\n",
            "    moroccan       0.82      0.57      0.67       166\n",
            "     russian       0.46      0.18      0.26        89\n",
            " southern_us       0.63      0.64      0.64       848\n",
            "     spanish       0.64      0.25      0.36       182\n",
            "        thai       0.77      0.65      0.71       315\n",
            "  vietnamese       0.69      0.37      0.48       144\n",
            "\n",
            "    accuracy                           0.70      7955\n",
            "   macro avg       0.66      0.53      0.57      7955\n",
            "weighted avg       0.69      0.70      0.68      7955\n",
            "\n",
            "Perceptron(random_state=42)\n",
            "              precision    recall  f1-score   support\n",
            "\n",
            "   brazilian       0.64      0.50      0.56        84\n",
            "     british       0.62      0.34      0.44       157\n",
            "cajun_creole       0.66      0.64      0.65       328\n",
            "     chinese       0.77      0.76      0.76       510\n",
            "    filipino       0.49      0.66      0.56       136\n",
            "      french       0.63      0.56      0.59       550\n",
            "       greek       0.63      0.74      0.68       249\n",
            "      indian       0.82      0.87      0.84       602\n",
            "       irish       0.47      0.37      0.41       151\n",
            "     italian       0.83      0.82      0.83      1567\n",
            "    jamaican       0.60      0.64      0.62        91\n",
            "    japanese       0.74      0.73      0.73       284\n",
            "      korean       0.83      0.75      0.79       166\n",
            "     mexican       0.89      0.90      0.89      1336\n",
            "    moroccan       0.79      0.66      0.72       166\n",
            "     russian       0.35      0.52      0.42        89\n",
            " southern_us       0.67      0.72      0.69       848\n",
            "     spanish       0.43      0.45      0.44       182\n",
            "        thai       0.73      0.76      0.75       315\n",
            "  vietnamese       0.53      0.51      0.52       144\n",
            "\n",
            "    accuracy                           0.74      7955\n",
            "   macro avg       0.66      0.64      0.65      7955\n",
            "weighted avg       0.74      0.74      0.74      7955\n",
            "\n"
          ]
        }
      ]
    },
    {
      "cell_type": "code",
      "source": [
        "#Reconfiguring LinearSVC as it showed to be the best option\n",
        "svm=SVM(penalty='l2',max_iter=2000,C=1,random_state=42,tol=1e-6)\n",
        "svm.fit(X_train_vec,y_train)\n",
        "y_pred=(svm.predict(X_test_vec))\n",
        "print(CR(y_test,y_pred))"
      ],
      "metadata": {
        "colab": {
          "base_uri": "https://localhost:8080/"
        },
        "id": "gXKJYJwEL_iL",
        "outputId": "fddab723-85fd-4309-d047-a4047ddc9477"
      },
      "execution_count": 6,
      "outputs": [
        {
          "output_type": "stream",
          "name": "stdout",
          "text": [
            "              precision    recall  f1-score   support\n",
            "\n",
            "   brazilian       0.77      0.61      0.68        84\n",
            "     british       0.66      0.44      0.53       157\n",
            "cajun_creole       0.77      0.67      0.72       328\n",
            "     chinese       0.78      0.85      0.81       510\n",
            "    filipino       0.71      0.59      0.64       136\n",
            "      french       0.63      0.66      0.64       550\n",
            "       greek       0.73      0.71      0.72       249\n",
            "      indian       0.88      0.89      0.88       602\n",
            "       irish       0.60      0.46      0.52       151\n",
            "     italian       0.82      0.89      0.85      1567\n",
            "    jamaican       0.82      0.69      0.75        91\n",
            "    japanese       0.82      0.73      0.77       284\n",
            "      korean       0.83      0.77      0.80       166\n",
            "     mexican       0.90      0.93      0.92      1336\n",
            "    moroccan       0.87      0.76      0.81       166\n",
            "     russian       0.55      0.51      0.53        89\n",
            " southern_us       0.71      0.77      0.74       848\n",
            "     spanish       0.64      0.48      0.55       182\n",
            "        thai       0.81      0.77      0.79       315\n",
            "  vietnamese       0.64      0.54      0.59       144\n",
            "\n",
            "    accuracy                           0.79      7955\n",
            "   macro avg       0.75      0.69      0.71      7955\n",
            "weighted avg       0.79      0.79      0.79      7955\n",
            "\n"
          ]
        }
      ]
    },
    {
      "cell_type": "markdown",
      "source": [
        "#Execution"
      ],
      "metadata": {
        "id": "8vlj0Z3WOOQQ"
      }
    },
    {
      "cell_type": "code",
      "source": [
        "#prediction of the actual test data with linearSVC\n",
        "y_pred=(svm.predict(final_test_vec))\n",
        "#transforming into dataframe to facilitate csv creation\n",
        "result_df=final_test.drop(columns=['ingredients'])\n",
        "result_df['cuisine']=y_pred\n",
        "print(result_df)"
      ],
      "metadata": {
        "colab": {
          "base_uri": "https://localhost:8080/"
        },
        "id": "vORGrUPHpHmk",
        "outputId": "69aa01bd-47e3-446d-95e0-26d74b45677b"
      },
      "execution_count": 7,
      "outputs": [
        {
          "output_type": "stream",
          "name": "stdout",
          "text": [
            "         id       cuisine\n",
            "0     18009   southern_us\n",
            "1     28583   southern_us\n",
            "2     41580       italian\n",
            "3     29752  cajun_creole\n",
            "4     35687       italian\n",
            "...     ...           ...\n",
            "9939  30246        french\n",
            "9940  36028      filipino\n",
            "9941  22339       italian\n",
            "9942  42525   southern_us\n",
            "9943   1443       mexican\n",
            "\n",
            "[9944 rows x 2 columns]\n"
          ]
        }
      ]
    },
    {
      "cell_type": "markdown",
      "source": [
        "#CSV creation"
      ],
      "metadata": {
        "id": "2Xg1N65ZCu5H"
      }
    },
    {
      "cell_type": "code",
      "source": [
        "from google.colab import files\n",
        "#csv creation and download\n",
        "file_name_csv = \"submission_Jairo_Acevedo_17_svm.csv\"  # Nombre del archivo CSV de salida\n",
        "result_df.to_csv(file_name_csv, index=False)  # index=False para omitir la columna de índices\n",
        "files.download(file_name_csv)"
      ],
      "metadata": {
        "colab": {
          "base_uri": "https://localhost:8080/",
          "height": 17
        },
        "id": "cpKaQU2hyI5N",
        "outputId": "c1351d4e-6f1a-4cc4-c169-9e77f3a132ae"
      },
      "execution_count": 8,
      "outputs": [
        {
          "output_type": "display_data",
          "data": {
            "text/plain": [
              "<IPython.core.display.Javascript object>"
            ],
            "application/javascript": [
              "\n",
              "    async function download(id, filename, size) {\n",
              "      if (!google.colab.kernel.accessAllowed) {\n",
              "        return;\n",
              "      }\n",
              "      const div = document.createElement('div');\n",
              "      const label = document.createElement('label');\n",
              "      label.textContent = `Downloading \"${filename}\": `;\n",
              "      div.appendChild(label);\n",
              "      const progress = document.createElement('progress');\n",
              "      progress.max = size;\n",
              "      div.appendChild(progress);\n",
              "      document.body.appendChild(div);\n",
              "\n",
              "      const buffers = [];\n",
              "      let downloaded = 0;\n",
              "\n",
              "      const channel = await google.colab.kernel.comms.open(id);\n",
              "      // Send a message to notify the kernel that we're ready.\n",
              "      channel.send({})\n",
              "\n",
              "      for await (const message of channel.messages) {\n",
              "        // Send a message to notify the kernel that we're ready.\n",
              "        channel.send({})\n",
              "        if (message.buffers) {\n",
              "          for (const buffer of message.buffers) {\n",
              "            buffers.push(buffer);\n",
              "            downloaded += buffer.byteLength;\n",
              "            progress.value = downloaded;\n",
              "          }\n",
              "        }\n",
              "      }\n",
              "      const blob = new Blob(buffers, {type: 'application/binary'});\n",
              "      const a = document.createElement('a');\n",
              "      a.href = window.URL.createObjectURL(blob);\n",
              "      a.download = filename;\n",
              "      div.appendChild(a);\n",
              "      a.click();\n",
              "      div.remove();\n",
              "    }\n",
              "  "
            ]
          },
          "metadata": {}
        },
        {
          "output_type": "display_data",
          "data": {
            "text/plain": [
              "<IPython.core.display.Javascript object>"
            ],
            "application/javascript": [
              "download(\"download_c981179f-b985-461d-a2f0-29e587131f62\", \"submission_Jairo_Acevedo_17_svm.csv\", 141375)"
            ]
          },
          "metadata": {}
        }
      ]
    }
  ]
}